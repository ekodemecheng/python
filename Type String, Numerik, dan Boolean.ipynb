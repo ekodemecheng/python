{
 "cells": [
  {
   "cell_type": "markdown",
   "id": "e33cda18",
   "metadata": {},
   "source": [
    "# Type String"
   ]
  },
  {
   "cell_type": "code",
   "execution_count": 3,
   "id": "42c39428",
   "metadata": {},
   "outputs": [
    {
     "name": "stdout",
     "output_type": "stream",
     "text": [
      "Halo Takumi\n",
      "Halo Takumi\n"
     ]
    }
   ],
   "source": [
    "# Type String \n",
    "print('Halo Takumi') #membuat string dengan tanda petik tunggal\n",
    "print(\"Halo Takumi\") #membuat string dengan tanda petik tunggal\n"
   ]
  },
  {
   "cell_type": "code",
   "execution_count": 6,
   "id": "c02aec57",
   "metadata": {},
   "outputs": [
    {
     "name": "stdout",
     "output_type": "stream",
     "text": [
      "Halo\n",
      "Takumi\n",
      "Halo Takumi\n"
     ]
    }
   ],
   "source": [
    "# Variabel Type String\n",
    "s1 = 'Halo' #variabel string 1\n",
    "s2 = 'Takumi' #variabel string 2\n",
    "\n",
    "# menampilkan type string\n",
    "print(s1)\n",
    "print(s2)\n",
    "print(s1 +' '+ s2)"
   ]
  },
  {
   "cell_type": "code",
   "execution_count": 8,
   "id": "8b1eff38",
   "metadata": {},
   "outputs": [
    {
     "name": "stdout",
     "output_type": "stream",
     "text": [
      "False\n",
      "False\n",
      "True\n",
      "True\n",
      "True\n"
     ]
    }
   ],
   "source": [
    "# Membandingkan string\n",
    "s1 = 'Halo' #variabel string 1\n",
    "s2 = 'Takumi' #variabel string 2\n",
    "\n",
    "print(s1 > s2)\n",
    "print(s1 >= s2)\n",
    "print(s1 < s2)\n",
    "print(s1 <= s2)\n",
    "print(s1 != s2)"
   ]
  },
  {
   "cell_type": "code",
   "execution_count": 18,
   "id": "d85eebff",
   "metadata": {},
   "outputs": [
    {
     "name": "stdout",
     "output_type": "stream",
     "text": [
      "T\n",
      "k\n",
      "Ta\n",
      "Taku\n",
      "umi\n",
      "mi\n",
      "Tak\n",
      "Takumi oke\n",
      "TakumiTakumi\n"
     ]
    }
   ],
   "source": [
    "# Mengambil Substring; menggunakan tanda bracket []\n",
    "\n",
    "s = 'Takumi'\n",
    "\n",
    "print(s[0])  #menampilkan sub string karakter pertama\n",
    "print(s[-4])  #menampilkan sub string karakter ke 4 dari kanan\n",
    "print(s[:2])  #menampilkan dua karakter di awal\n",
    "print(s[:-2]) #menghilangkan dua karakter terakir\n",
    "print(s[3:])  #menampilkan tiga karakter terakhir\n",
    "print(s[-2:]) #menampilkan dua karakter terakhir\n",
    "print(s[0:3]) #menampilkan karakter dari 0\n",
    "len(s) #Menunjukkan jumlah karakter\n",
    "print(s +' '+ 'oke') #Penggabungan\n",
    "print(s*2) #Pengulangan\n"
   ]
  },
  {
   "cell_type": "code",
   "execution_count": 21,
   "id": "aba5c7ae",
   "metadata": {},
   "outputs": [
    {
     "data": {
      "text/plain": [
       "1"
      ]
     },
     "execution_count": 21,
     "metadata": {},
     "output_type": "execute_result"
    }
   ],
   "source": [
    "#Menemukan offset substring\n",
    "s = 'Takumi'\n",
    "s.find('aku')"
   ]
  },
  {
   "cell_type": "code",
   "execution_count": 22,
   "id": "1390cf05",
   "metadata": {},
   "outputs": [
    {
     "data": {
      "text/plain": [
       "'TAKUmi'"
      ]
     },
     "execution_count": 22,
     "metadata": {},
     "output_type": "execute_result"
    }
   ],
   "source": [
    "#Mengganti kemunculan suatu substring dengan substring lainnya\n",
    "s = 'Takumi'\n",
    "s.replace('aku', 'AKU')"
   ]
  },
  {
   "cell_type": "code",
   "execution_count": 23,
   "id": "101ff9f0",
   "metadata": {},
   "outputs": [
    {
     "data": {
      "text/plain": [
       "'TAKUMI'"
      ]
     },
     "execution_count": 23,
     "metadata": {},
     "output_type": "execute_result"
    }
   ],
   "source": [
    "Mengkonversi huruf besar dan kecil\n",
    "s = 'Takumi'\n",
    "s.upper()"
   ]
  },
  {
   "cell_type": "markdown",
   "id": "5408bee0",
   "metadata": {},
   "source": [
    "# Type Numerik"
   ]
  },
  {
   "cell_type": "code",
   "execution_count": 26,
   "id": "43e87721",
   "metadata": {},
   "outputs": [
    {
     "name": "stdout",
     "output_type": "stream",
     "text": [
      "<class 'int'>\n",
      "<class 'int'>\n",
      "<class 'int'>\n"
     ]
    }
   ],
   "source": [
    "#Type integer\n",
    "a = 1\n",
    "b = -17\n",
    "c = 100\n",
    "\n",
    "print(type(a))\n",
    "print(type(b))\n",
    "print(type(c))"
   ]
  },
  {
   "cell_type": "code",
   "execution_count": 27,
   "id": "e627907a",
   "metadata": {},
   "outputs": [
    {
     "name": "stdout",
     "output_type": "stream",
     "text": [
      "<class 'float'>\n",
      "<class 'float'>\n",
      "<class 'float'>\n"
     ]
    }
   ],
   "source": [
    "#Type float\n",
    "x = 3.14\n",
    "y = -0.175\n",
    "z = 2.05\n",
    "\n",
    "print(type(x))\n",
    "print(type(y))\n",
    "print(type(z))"
   ]
  },
  {
   "cell_type": "code",
   "execution_count": 30,
   "id": "bf258bd4",
   "metadata": {},
   "outputs": [
    {
     "name": "stdout",
     "output_type": "stream",
     "text": [
      "<class 'complex'>\n",
      "<class 'complex'>\n",
      "3.0\n",
      "2.0\n"
     ]
    }
   ],
   "source": [
    "#Type complex\n",
    "s1 = 3 + 2j\n",
    "s2 = -2.5j\n",
    "\n",
    "print(type(s1))\n",
    "print(type(s2))\n",
    "print(s1.real) #menampilkan bilangan real\n",
    "print(s1.imag) #menampilkan bilangan imajiner\n"
   ]
  },
  {
   "cell_type": "code",
   "execution_count": 34,
   "id": "c697c994",
   "metadata": {},
   "outputs": [
    {
     "name": "stdout",
     "output_type": "stream",
     "text": [
      "3\n",
      "-17.0\n",
      "(-0.175+0j)\n"
     ]
    }
   ],
   "source": [
    "#Konversi Tipe Data Numerik\n",
    "\n",
    "#Konversi ke integer\n",
    "x = int(3.14) \n",
    "print(x)\n",
    "\n",
    "#Konversi ke float\n",
    "b = float(-17)\n",
    "print(b)\n",
    "\n",
    "#Konversi ke complex\n",
    "y =complex(-0.175)\n",
    "print(y)\n"
   ]
  },
  {
   "cell_type": "code",
   "execution_count": 35,
   "id": "e76fe7d7",
   "metadata": {},
   "outputs": [
    {
     "name": "stdout",
     "output_type": "stream",
     "text": [
      "21\n",
      "9\n",
      "90\n",
      "2.5\n",
      "2\n",
      "3\n",
      "11390625\n"
     ]
    }
   ],
   "source": [
    "#Operasi Aritmatika\n",
    "a = 15\n",
    "b = 6\n",
    "print(a + b)  #penjumlahan\n",
    "print(a - b)  #pengurangan \n",
    "print(a * b)  #perkalian \n",
    "print(a / b)  #pembagian\n",
    "print(a // b) #untuk pembagian bilangan bulat\n",
    "print(a % b)  #modulus\n",
    "print(a ** b) #eksponen\n"
   ]
  },
  {
   "cell_type": "code",
   "execution_count": 38,
   "id": "cc159b0f",
   "metadata": {},
   "outputs": [
    {
     "name": "stdout",
     "output_type": "stream",
     "text": [
      "2.0\n",
      "6.283185307179586\n",
      "1.0\n"
     ]
    }
   ],
   "source": [
    "#Modul math\n",
    "import math\n",
    "a = 4\n",
    "b = 2\n",
    "c = 0\n",
    "print(math.sqrt(a))    # akar variabel a = 4\n",
    "print(math.pi*(b)) #perkalian variabel b = 2 dengan pi = 3.14\n",
    "print(math.cos(c))  #cosinus variabel c = 0\n"
   ]
  },
  {
   "cell_type": "code",
   "execution_count": 40,
   "id": "0d9e9ea8",
   "metadata": {},
   "outputs": [
    {
     "name": "stdout",
     "output_type": "stream",
     "text": [
      "(1.600485180440241+1.2496210676876531j)\n",
      "(22.979085577886128+14.744805188558727j)\n"
     ]
    }
   ],
   "source": [
    "#Modul cmath\n",
    "import cmath\n",
    "z = 1 + 4j\n",
    "print(cmath.sqrt(z)) #akar variabel z\n",
    "print(cmath.sin(z)) #sinus variabel z\n"
   ]
  },
  {
   "cell_type": "markdown",
   "id": "2d8799bd",
   "metadata": {},
   "source": [
    "# Type Boolean"
   ]
  },
  {
   "cell_type": "code",
   "execution_count": 41,
   "id": "ae76ba9a",
   "metadata": {},
   "outputs": [
    {
     "name": "stdout",
     "output_type": "stream",
     "text": [
      "<class 'bool'>\n",
      "<class 'bool'>\n"
     ]
    }
   ],
   "source": [
    "# Type Boolean (bool)\n",
    "t = True\n",
    "f = False\n",
    "\n",
    "print(type(t))\n",
    "print(type(f))"
   ]
  },
  {
   "cell_type": "code",
   "execution_count": 43,
   "id": "898d3fda",
   "metadata": {},
   "outputs": [
    {
     "name": "stdout",
     "output_type": "stream",
     "text": [
      "False\n",
      "True\n",
      "False\n",
      "True\n",
      "True\n",
      "False\n"
     ]
    }
   ],
   "source": [
    "#Operasi type Boolean\n",
    "t = True\n",
    "f = False\n",
    "\n",
    "print(t and f)\n",
    "print(t and t)\n",
    "print(f and f)\n",
    "print(t or f)\n",
    "print(t or t)\n",
    "print(f or f)"
   ]
  },
  {
   "cell_type": "code",
   "execution_count": null,
   "id": "6daad478",
   "metadata": {},
   "outputs": [],
   "source": []
  }
 ],
 "metadata": {
  "kernelspec": {
   "display_name": "Python 3 (ipykernel)",
   "language": "python",
   "name": "python3"
  },
  "language_info": {
   "codemirror_mode": {
    "name": "ipython",
    "version": 3
   },
   "file_extension": ".py",
   "mimetype": "text/x-python",
   "name": "python",
   "nbconvert_exporter": "python",
   "pygments_lexer": "ipython3",
   "version": "3.11.5"
  }
 },
 "nbformat": 4,
 "nbformat_minor": 5
}
